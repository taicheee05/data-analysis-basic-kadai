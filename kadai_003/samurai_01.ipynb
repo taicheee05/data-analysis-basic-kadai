{
  "nbformat": 4,
  "nbformat_minor": 0,
  "metadata": {
    "colab": {
      "provenance": []
    },
    "kernelspec": {
      "name": "python3",
      "display_name": "Python 3"
    },
    "language_info": {
      "name": "python"
    }
  },
  "cells": [
    {
      "cell_type": "code",
      "source": [
        "#配列（ディクショナリ、リスト、タプル、セット）\n",
        "#ディクショナリ{:,:},リスト[], タプル(), セット{}\n",
        "#ディクショナリは、キーがリストのインデックス番号と同じと考えると良い\n",
        "#while文を使えば、「条件を満たしている間」同じ処理を繰り返し行えます。\n",
        "#while 条件式:\n",
        " #   条件を満たしている間、繰り返す処理\n",
        "#while文もfor文と同様、break文やcontinue文が使える\n",
        "#break文：繰り返し処理の途中で強制終了し、ループから抜け出す命令\n",
        "#continue文：繰り返し処理の途中で中断し、次のループに進む命令\n",
        "#関数、関数名(引数):で関数を定義。関数を呼び出すときは、関数名(引数に代入するもの)で呼び出す\n",
        "#クラスのイメージ。クラス名は、変数に代入して使う感じ。そして、変数.属性とかで色々できるイメーj\n",
        "#クラス；属性の部分では、インスタンス化する時の引数を決めている。\n",
        "#クラス内の属性と、メソッドへのアクセス方法は変わらない。扱い的には、属性は変数、メソッドは関数のイメージ\n",
        "#Pythonのスライシング[0:4]、使うのは:"
      ],
      "metadata": {
        "id": "kkNu0VJJ7TPC"
      },
      "execution_count": null,
      "outputs": []
    },
    {
      "cell_type": "markdown",
      "source": [],
      "metadata": {
        "id": "3OshtcpkJ_fY"
      }
    },
    {
      "cell_type": "code",
      "source": [
        "import numpy as np\n",
        "A=np.array([[0,1],[2,3],[4,5]])\n",
        "B=np.array([[0,1,2,3],[4,5,6,7]])\n",
        "result=np.dot(A,B)\n",
        "max_value=np.amax(result)\n",
        "max_value\n"
      ],
      "metadata": {
        "id": "TsFVuEBvVr9V",
        "colab": {
          "base_uri": "https://localhost:8080/"
        },
        "outputId": "479aac85-faf7-4065-bff9-5fbd0c6514fc"
      },
      "execution_count": 10,
      "outputs": [
        {
          "output_type": "execute_result",
          "data": {
            "text/plain": [
              "47"
            ]
          },
          "metadata": {},
          "execution_count": 10
        }
      ]
    },
    {
      "cell_type": "code",
      "source": [],
      "metadata": {
        "colab": {
          "base_uri": "https://localhost:8080/",
          "height": 183
        },
        "id": "dQRww8JAYM3w",
        "outputId": "89d51641-feae-42c8-9e21-2e8c9d63482b"
      },
      "execution_count": null,
      "outputs": [
        {
          "output_type": "error",
          "ename": "NameError",
          "evalue": "name 'CD' is not defined",
          "traceback": [
            "\u001b[0;31m---------------------------------------------------------------------------\u001b[0m",
            "\u001b[0;31mNameError\u001b[0m                                 Traceback (most recent call last)",
            "\u001b[0;32m<ipython-input-39-c2bcfd3745ab>\u001b[0m in \u001b[0;36m<cell line: 1>\u001b[0;34m()\u001b[0m\n\u001b[0;32m----> 1\u001b[0;31m \u001b[0mCD\u001b[0m \u001b[0;34m/\u001b[0m\u001b[0mcontent\u001b[0m\u001b[0;34m/\u001b[0m\u001b[0msample_data\u001b[0m\u001b[0;34m\u001b[0m\u001b[0;34m\u001b[0m\u001b[0m\n\u001b[0m",
            "\u001b[0;31mNameError\u001b[0m: name 'CD' is not defined"
          ]
        }
      ]
    }
  ]
}