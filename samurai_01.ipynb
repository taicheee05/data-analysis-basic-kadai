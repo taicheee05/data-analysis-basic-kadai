{
  "nbformat": 4,
  "nbformat_minor": 0,
  "metadata": {
    "colab": {
      "provenance": [],
      "authorship_tag": "ABX9TyOs8chxemshKTWH76ZHrI9c",
      "include_colab_link": true
    },
    "kernelspec": {
      "name": "python3",
      "display_name": "Python 3"
    },
    "language_info": {
      "name": "python"
    }
  },
  "cells": [
    {
      "cell_type": "markdown",
      "metadata": {
        "id": "view-in-github",
        "colab_type": "text"
      },
      "source": [
        "<a href=\"https://colab.research.google.com/github/taicheee05/python-basic-kadai/blob/kadai_request/samurai_01.ipynb\" target=\"_parent\"><img src=\"https://colab.research.google.com/assets/colab-badge.svg\" alt=\"Open In Colab\"/></a>"
      ]
    },
    {
      "cell_type": "code",
      "source": [
        "# 台形の各辺の長さを定義\n",
        "top_edge = 10  # 上辺 (cm)\n",
        "bottom_edge = 20  # 下辺 (cm)\n",
        "height = 5  # 高さ (cm)\n",
        "\n",
        "# 台形の面積を計算\n",
        "area = (top_edge + bottom_edge) * height / 2\n",
        "\n",
        "# 結果を出力\n",
        "print(f\"{area}cm²\")\n"
      ],
      "metadata": {
        "colab": {
          "base_uri": "https://localhost:8080/"
        },
        "id": "kkNu0VJJ7TPC",
        "outputId": "e969b444-b2b4-40e9-aaac-d52572800ec9"
      },
      "execution_count": 10,
      "outputs": [
        {
          "output_type": "stream",
          "name": "stdout",
          "text": [
            "75.0cm²\n"
          ]
        }
      ]
    },
    {
      "cell_type": "code",
      "source": [],
      "metadata": {
        "id": "4zQH5DtQdiZp"
      },
      "execution_count": null,
      "outputs": []
    }
  ]
}